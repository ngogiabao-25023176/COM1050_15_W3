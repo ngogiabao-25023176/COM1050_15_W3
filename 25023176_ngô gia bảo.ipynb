{
 "cells": [
  {
   "cell_type": "code",
   "execution_count": null,
   "id": "594d58d3-b8d0-4d6c-89d2-5c60834884df",
   "metadata": {},
   "outputs": [],
   "source": [
    "#W3A3\n",
    "n=int(input('nhập số:'))\n",
    "n&(n-1)==0"
   ]
  },
  {
   "cell_type": "code",
   "execution_count": null,
   "id": "cf1f91a5-4eaf-4bc5-b19b-2cff20a4d895",
   "metadata": {},
   "outputs": [],
   "source": [
    "#W3A4 và W3A5\n",
    "from math import*\n",
    "a,b=map(float,input().split())\n",
    "t=a/b\n",
    "print (ceil(t))\n",
    "print (floor(t))\n"
   ]
  },
  {
   "cell_type": "code",
   "execution_count": 2,
   "id": "468e6c8e-1196-4173-8079-b125a11eb2ed",
   "metadata": {},
   "outputs": [
    {
     "name": "stdin",
     "output_type": "stream",
     "text": [
      " 2312\n"
     ]
    },
    {
     "name": "stdout",
     "output_type": "stream",
     "text": [
      "Even\n"
     ]
    }
   ],
   "source": [
    "#W3A6\n",
    "x=int(input())\n",
    "if x%2==0:\n",
    "    print ('Even')\n",
    "else:\n",
    "    print ('Odd')"
   ]
  },
  {
   "cell_type": "code",
   "execution_count": 1,
   "id": "e753dfdc-1bbf-401b-900a-c435c1eb2ea7",
   "metadata": {},
   "outputs": [
    {
     "name": "stdin",
     "output_type": "stream",
     "text": [
      " 3 4\n"
     ]
    },
    {
     "name": "stdout",
     "output_type": "stream",
     "text": [
      "NO\n"
     ]
    }
   ],
   "source": [
    "#W3A7\n",
    "so1,so2=map(int,input().split())\n",
    "if so1<0 and so2<0:\n",
    "    print ('YES')\n",
    "else:\n",
    "    print ('NO')"
   ]
  },
  {
   "cell_type": "code",
   "execution_count": 6,
   "id": "de253553-e2bf-4131-be55-4ed796cb1195",
   "metadata": {},
   "outputs": [
    {
     "name": "stdin",
     "output_type": "stream",
     "text": [
      " asdas dasdsadsadsadas\n"
     ]
    },
    {
     "name": "stdout",
     "output_type": "stream",
     "text": [
      "YES\n"
     ]
    }
   ],
   "source": [
    "#W3A8\n",
    "chuoi1,chuoi2=map(str,input().split())\n",
    "if len(chuoi1) > len(chuoi2):\n",
    "    print ('YES')\n",
    "else:\n",
    "    print ('NO')\n",
    "    "
   ]
  },
  {
   "cell_type": "code",
   "execution_count": 9,
   "id": "43da839a-5dcf-43b8-96fd-c3a0ac549cc8",
   "metadata": {},
   "outputs": [
    {
     "name": "stdin",
     "output_type": "stream",
     "text": [
      " 12 4 6\n"
     ]
    },
    {
     "name": "stdout",
     "output_type": "stream",
     "text": [
      "NO\n"
     ]
    }
   ],
   "source": [
    "#W3A9\n",
    "A,B,C=map(int,input().split())\n",
    "if A+B>C and A+C>B and B+C>A:\n",
    "    print ('YES')\n",
    "else:\n",
    "    print ('NO')"
   ]
  },
  {
   "cell_type": "code",
   "execution_count": null,
   "id": "92171311-f07c-4044-a16c-cf09d1eff475",
   "metadata": {},
   "outputs": [],
   "source": [
    "#W3A10\n",
    "nguyen=list(map(int,input().split()))\n",
    "print (max(nguyen))"
   ]
  },
  {
   "cell_type": "markdown",
   "id": "15095d5f-b488-4e42-997d-305e5769c88a",
   "metadata": {},
   "source": [
    "#W3A11\n",
    "from math import*\n",
    "canh1,canh2,canh3=map(int,input().split())\n",
    "if canh1+canh2>canh3 and canh1+canh3>canh2 and canh2+canh3>canh1:\n",
    "    if canh1==canh2==canh3:\n",
    "        print ('tam giác đều')\n",
    "    elif canh1==canh2 or canh1 == canh3 or canh2==canh3:\n",
    "        print ('tam giác cân')\n",
    "    elif canh1**2==canh2**2+canh3**2  or canh2**2==canh1**2+canh3**2 or canh3**2==canh2**2+canh1**2:\n",
    "        print ('tam giác vuông')\n",
    "    else:\n",
    "        print ('tam giác thường')\n",
    "else:\n",
    "    print ('không phải tam giác')"
   ]
  },
  {
   "cell_type": "markdown",
   "id": "c00cface-744f-4d06-a682-1dd0603ef4d2",
   "metadata": {},
   "source": [
    "#W3A12\n",
    "nam=int(input())\n",
    "if (nam%4==0 and nam%100!=0) or nam%400==0:\n",
    "    print ('YES')\n",
    "else:\n",
    "    print ('NO')"
   ]
  },
  {
   "cell_type": "markdown",
   "id": "8e6da794-eb3b-41c5-bd30-da8e38578179",
   "metadata": {},
   "source": [
    "#W3A14\n",
    "m,n=map(float,input().split())\n",
    "if m==0:\n",
    "    if n==0:\n",
    "        print ('phương trình vô số nghiệm')\n",
    "    else:\n",
    "        print ('phương trình vô nghiệm')\n",
    "else:\n",
    "    print ('%.2f'  %(-n/m))"
   ]
  }
 ],
 "metadata": {
  "kernelspec": {
   "display_name": "Python 3 (ipykernel)",
   "language": "python",
   "name": "python3"
  },
  "language_info": {
   "codemirror_mode": {
    "name": "ipython",
    "version": 3
   },
   "file_extension": ".py",
   "mimetype": "text/x-python",
   "name": "python",
   "nbconvert_exporter": "python",
   "pygments_lexer": "ipython3",
   "version": "3.13.5"
  }
 },
 "nbformat": 4,
 "nbformat_minor": 5
}
