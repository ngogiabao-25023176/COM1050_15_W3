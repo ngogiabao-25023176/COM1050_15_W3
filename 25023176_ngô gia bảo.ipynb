{
 "cells": [
  {
   "cell_type": "markdown",
   "id": "cdd0769a-d2a5-4439-bd5f-fb90cb5f74e1",
   "metadata": {},
   "source": [
    "#W3A3\n",
    "n=int(input('nhập số:'))\n",
    "n&(n-1)==0"
   ]
  },
  {
   "cell_type": "markdown",
   "id": "8b02a786-838f-40c2-b0df-3a40ec16228f",
   "metadata": {},
   "source": [
    "#W3A4 và W3A5\n",
    "from math import*\n",
    "a,b=map(float,input().split())\n",
    "t=a/b\n",
    "print (ceil(t))\n",
    "print (floor(t))\n"
   ]
  },
  {
   "cell_type": "markdown",
   "id": "dbf0ae16-bb5d-409b-acaf-b9d90449328a",
   "metadata": {},
   "source": [
    "#W3A6\n",
    "x=int(input())\n",
    "if x%2==0:\n",
    "    print ('Even')\n",
    "else:\n",
    "    print ('Odd')"
   ]
  },
  {
   "cell_type": "code",
   "execution_count": null,
   "id": "a4be7064-3e39-4749-a44b-15a86d10ecd8",
   "metadata": {},
   "outputs": [],
   "source": [
    "#W3A7\n"
   ]
  }
 ],
 "metadata": {
  "kernelspec": {
   "display_name": "Python 3 (ipykernel)",
   "language": "python",
   "name": "python3"
  },
  "language_info": {
   "codemirror_mode": {
    "name": "ipython",
    "version": 3
   },
   "file_extension": ".py",
   "mimetype": "text/x-python",
   "name": "python",
   "nbconvert_exporter": "python",
   "pygments_lexer": "ipython3",
   "version": "3.13.5"
  }
 },
 "nbformat": 4,
 "nbformat_minor": 5
}
