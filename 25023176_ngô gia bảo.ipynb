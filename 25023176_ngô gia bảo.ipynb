{
 "cells": [
  {
   "cell_type": "code",
   "execution_count": null,
   "id": "378fd96b-79ab-4be3-a075-784d40bd1991",
   "metadata": {},
   "outputs": [],
   "source": [
    "#W3A3\n",
    "n=int(input('nhập số:'))\n",
    "n&(n-1)==0"
   ]
  },
  {
   "cell_type": "code",
   "execution_count": null,
   "id": "5341f3a9-da76-4145-9b0d-b1a223c45794",
   "metadata": {},
   "outputs": [],
   "source": [
    "#W3A4 và W3A5\n",
    "from math import*\n",
    "a,b=map(float,input().split())\n",
    "t=a/b\n",
    "print (ceil(t))\n",
    "print (floor(t))\n"
   ]
  },
  {
   "cell_type": "code",
   "execution_count": null,
   "id": "67039520-ac53-4256-a393-6ac55735fb5c",
   "metadata": {},
   "outputs": [],
   "source": [
    "#W3A6\n",
    "x=int(input())\n",
    "if x%2==0:\n",
    "    print ('Even')\n",
    "else:\n",
    "    print ('Odd')"
   ]
  },
  {
   "cell_type": "code",
   "execution_count": null,
   "id": "1f78e55a-0bb2-420c-9e34-459b4eb58405",
   "metadata": {},
   "outputs": [],
   "source": [
    "#W3A7\n",
    "so1,so2=map(int,input().split())\n",
    "if so1<0 and so2<0:\n",
    "    print ('YES')\n",
    "else:\n",
    "    print ('NO')"
   ]
  },
  {
   "cell_type": "code",
   "execution_count": null,
   "id": "f27bd676-d628-4c6c-8c7f-d048b2453ed3",
   "metadata": {},
   "outputs": [],
   "source": [
    "#W3A8\n",
    "chuoi1,chuoi2=map(str,input().split())\n",
    "if len(chuoi1) > len(chuoi2):\n",
    "    print ('YES')\n",
    "else:\n",
    "    print ('NO')\n",
    "    "
   ]
  },
  {
   "cell_type": "code",
   "execution_count": null,
   "id": "84bd41a0-a30b-49d1-93ae-1f0a632a0056",
   "metadata": {},
   "outputs": [],
   "source": [
    "#W3A9\n",
    "A,B,C=map(int,input().split())\n",
    "if A+B>C and A+C>B and B+C>A:\n",
    "    print ('YES')\n",
    "else:\n",
    "    print ('NO')"
   ]
  },
  {
   "cell_type": "code",
   "execution_count": null,
   "id": "6bb6eade-c0af-4cf1-859a-10fb9f71af99",
   "metadata": {},
   "outputs": [],
   "source": [
    "#W3A10\n",
    "nguyen=list(map(int,input().split()))\n",
    "print (max(nguyen))"
   ]
  },
  {
   "cell_type": "code",
   "execution_count": null,
   "id": "447f52bb-4d29-42b1-be88-87064fa3b597",
   "metadata": {},
   "outputs": [],
   "source": [
    "#W3A11\n",
    "canh1,canh2,canh3=map(int,input().split())\n",
    "if canh1+canh2>canh3 and canh1+canh3>canh2 and canh2+canh3>canh1:\n",
    "    if canh1==canh2==canh3:\n",
    "        print ('tam giác đều')\n",
    "    elif canh1==canh2 or canh1 == canh3 or canh2==canh3:\n",
    "        print ('tam giác cân')\n",
    "    elif canh1**2 == canh2**2 + canh3**2  or canh2**2 == canh1**2 + canh3**2 or canh3**2 == canh2**2 + canh1**2:\n",
    "        print ('tam giác vuông')\n",
    "    else:\n",
    "        print ('tam giác thường')\n",
    "else:\n",
    "    print ('không phải tam giác')"
   ]
  },
  {
   "cell_type": "code",
   "execution_count": null,
   "id": "e29d5c34-7775-4b8e-9a59-6129c231beee",
   "metadata": {},
   "outputs": [],
   "source": [
    "#W3A12\n",
    "nam=int(input())\n",
    "if (nam%4==0 and nam%100!=0) or nam%400==0:\n",
    "    print ('YES')\n",
    "else:\n",
    "    print ('NO')"
   ]
  },
  {
   "cell_type": "code",
   "execution_count": null,
   "id": "b3aaf10a-b267-4a97-b876-4ff9e7e0b5d8",
   "metadata": {},
   "outputs": [],
   "source": [
    "#W3A14\n",
    "m,n=map(float,input().split())\n",
    "if m==0:\n",
    "    if n==0:\n",
    "        print ('phương trình vô số nghiệm')\n",
    "    else:\n",
    "        print ('phương trình vô nghiệm')\n",
    "else:\n",
    "    print ('%.2f'  %(-n/m))"
   ]
  },
  {
   "cell_type": "code",
   "execution_count": 30,
   "id": "d5acb994-22e9-4e8c-8f29-2abfada456a2",
   "metadata": {},
   "outputs": [
    {
     "name": "stdin",
     "output_type": "stream",
     "text": [
      " 3\n"
     ]
    },
    {
     "name": "stdout",
     "output_type": "stream",
     "text": [
      "YẾU\n"
     ]
    }
   ],
   "source": [
    "#W3A15\n",
    "diem=float(input())\n",
    "if diem<=10 and diem>=0:\n",
    "    if diem>=8:\n",
    "        print ('GIỎI')\n",
    "    elif diem>=6.5:\n",
    "        print ('KHÁ')\n",
    "    elif diem>=5:\n",
    "        print ('TRUNG BÌNH')\n",
    "    else:\n",
    "        print ('YẾU')\n",
    "else:\n",
    "    print ('nhập lỗi!')"
   ]
  },
  {
   "cell_type": "code",
   "execution_count": 35,
   "id": "d8ebc898-70bb-4861-959c-33b9a42d83c1",
   "metadata": {},
   "outputs": [
    {
     "name": "stdin",
     "output_type": "stream",
     "text": [
      " 4124.53452\n"
     ]
    },
    {
     "name": "stdout",
     "output_type": "stream",
     "text": [
      "làm tròn lên 4125.0 làm tròn xuống 4124.0 làm tròn đến số nguyên gần nhất 4125.0\n"
     ]
    }
   ],
   "source": [
    "#W3A16\n",
    "so=float(input())\n",
    "tron_len = so +(1-(so%1))\n",
    "tron_xuong = so//1\n",
    "if so%1>(0.5):\n",
    "       lam_tron=(so//1)+1\n",
    "else:\n",
    "       lam_tron=so//1\n",
    "print (f'làm tròn lên {tron_len} làm tròn xuống {tron_xuong} làm tròn đến số nguyên gần nhất {lam_tron}')"
   ]
  },
  {
   "cell_type": "code",
   "execution_count": null,
   "id": "3a478a84-0283-44de-b618-80ad90a3f529",
   "metadata": {},
   "outputs": [],
   "source": [
    "#W3A17\n",
    "X,Y,Z,T=map(int,input().split())\n",
    "boi=Y/X\n",
    "if Y%X==0:\n",
    "    if Y*boi=Z and Z*boi=T:\n",
    "        print ('tạo thành cấp số nhân')\n",
    "    else:\n",
    "        print ('không tạo thành cấp số nhân')\n",
    "else:\n",
    "print ('không tạo thành cấp số nhân')\n"
   ]
  }
 ],
 "metadata": {
  "kernelspec": {
   "display_name": "Python 3 (ipykernel)",
   "language": "python",
   "name": "python3"
  },
  "language_info": {
   "codemirror_mode": {
    "name": "ipython",
    "version": 3
   },
   "file_extension": ".py",
   "mimetype": "text/x-python",
   "name": "python",
   "nbconvert_exporter": "python",
   "pygments_lexer": "ipython3",
   "version": "3.13.5"
  }
 },
 "nbformat": 4,
 "nbformat_minor": 5
}
