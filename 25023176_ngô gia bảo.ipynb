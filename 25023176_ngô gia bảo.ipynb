{
 "cells": [
  {
   "cell_type": "markdown",
   "id": "52a8bb1e-7ce2-4940-9d22-06302ab13295",
   "metadata": {},
   "source": [
    "#W3A3\n",
    "n=int(input('nhập số:'))\n",
    "n&(n-1)==0"
   ]
  },
  {
   "cell_type": "code",
   "execution_count": 8,
   "id": "15e75093-0578-4753-856f-4cb78eda5673",
   "metadata": {},
   "outputs": [
    {
     "name": "stdin",
     "output_type": "stream",
     "text": [
      " 4 5\n"
     ]
    },
    {
     "name": "stdout",
     "output_type": "stream",
     "text": [
      "1\n",
      "0\n"
     ]
    }
   ],
   "source": [
    "#W3A4 và W3A5\n",
    "from math import*\n",
    "a,b=map(float,input().split())\n",
    "t=a/b\n",
    "print (ceil(t))\n",
    "print (floor(t))\n"
   ]
  },
  {
   "cell_type": "code",
   "execution_count": 9,
   "id": "dc3ab106-d36b-4f81-bedc-cc28bcc967bb",
   "metadata": {},
   "outputs": [
    {
     "name": "stdin",
     "output_type": "stream",
     "text": [
      " 5\n"
     ]
    },
    {
     "name": "stdout",
     "output_type": "stream",
     "text": [
      "Odd\n"
     ]
    }
   ],
   "source": [
    "#W3A6\n",
    "x=int(input())\n",
    "if x%2==0:\n",
    "    print ('Even')\n",
    "else:\n",
    "    print ('Odd')"
   ]
  }
 ],
 "metadata": {
  "kernelspec": {
   "display_name": "Python 3 (ipykernel)",
   "language": "python",
   "name": "python3"
  },
  "language_info": {
   "codemirror_mode": {
    "name": "ipython",
    "version": 3
   },
   "file_extension": ".py",
   "mimetype": "text/x-python",
   "name": "python",
   "nbconvert_exporter": "python",
   "pygments_lexer": "ipython3",
   "version": "3.13.5"
  }
 },
 "nbformat": 4,
 "nbformat_minor": 5
}
