{
 "cells": [
  {
   "cell_type": "code",
   "execution_count": 4,
   "id": "115a6289-0a4f-4bc2-a7d8-ba7748d4f560",
   "metadata": {},
   "outputs": [
    {
     "name": "stdin",
     "output_type": "stream",
     "text": [
      "nhập số: 6\n"
     ]
    },
    {
     "data": {
      "text/plain": [
       "False"
      ]
     },
     "execution_count": 4,
     "metadata": {},
     "output_type": "execute_result"
    }
   ],
   "source": [
    "#W3A3\n",
    "n=int(input('nhập số:'))\n",
    "n&(n-1)==0"
   ]
  },
  {
   "cell_type": "code",
   "execution_count": 8,
   "id": "15e75093-0578-4753-856f-4cb78eda5673",
   "metadata": {},
   "outputs": [
    {
     "name": "stdin",
     "output_type": "stream",
     "text": [
      " 4 5\n"
     ]
    },
    {
     "name": "stdout",
     "output_type": "stream",
     "text": [
      "1\n",
      "0\n"
     ]
    }
   ],
   "source": [
    "#W3A4 và W3A5\n",
    "from math import*\n",
    "a,b=map(float,input().split())\n",
    "t=a/b\n",
    "print (ceil(t))\n",
    "print (floor(t))\n"
   ]
  },
  {
   "cell_type": "code",
   "execution_count": 9,
   "id": "dc3ab106-d36b-4f81-bedc-cc28bcc967bb",
   "metadata": {},
   "outputs": [
    {
     "name": "stdin",
     "output_type": "stream",
     "text": [
      " 5\n"
     ]
    },
    {
     "name": "stdout",
     "output_type": "stream",
     "text": [
      "Odd\n"
     ]
    }
   ],
   "source": [
    "#W3A6\n",
    "x=int(input())\n",
    "if x%2==0:\n",
    "    print ('Even')\n",
    "else:\n",
    "    print ('Odd')"
   ]
  }
 ],
 "metadata": {
  "kernelspec": {
   "display_name": "Python 3 (ipykernel)",
   "language": "python",
   "name": "python3"
  },
  "language_info": {
   "codemirror_mode": {
    "name": "ipython",
    "version": 3
   },
   "file_extension": ".py",
   "mimetype": "text/x-python",
   "name": "python",
   "nbconvert_exporter": "python",
   "pygments_lexer": "ipython3",
   "version": "3.13.5"
  }
 },
 "nbformat": 4,
 "nbformat_minor": 5
}
