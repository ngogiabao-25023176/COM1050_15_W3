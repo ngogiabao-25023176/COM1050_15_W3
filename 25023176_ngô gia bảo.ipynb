{
 "cells": [
  {
   "cell_type": "markdown",
   "id": "f5e76272-1ce2-4820-b45b-b5cc04051136",
   "metadata": {},
   "source": [
    "#W3A3\n",
    "n=int(input('nhập số:'))\n",
    "n&(n-1)==0"
   ]
  },
  {
   "cell_type": "markdown",
   "id": "4e57d521-8a11-4698-8d78-c812d51569b4",
   "metadata": {},
   "source": [
    "#W3A4 và W3A5\n",
    "from math import*\n",
    "a,b=map(float,input().split())\n",
    "t=a/b\n",
    "print (ceil(t))\n",
    "print (floor(t))\n"
   ]
  },
  {
   "cell_type": "markdown",
   "id": "a1023f8e-3635-4688-8cf2-07a29803d2a2",
   "metadata": {},
   "source": [
    "#W3A6\n",
    "x=int(input())\n",
    "if x%2==0:\n",
    "    print ('Even')\n",
    "else:\n",
    "    print ('Odd')"
   ]
  },
  {
   "cell_type": "markdown",
   "id": "15d61988-b5c5-4463-b1c1-366fea29ce4d",
   "metadata": {},
   "source": [
    "#W3A7\n",
    "so1,so2=map(int,input().split())\n",
    "if so1<0 and so2<0:\n",
    "    print ('YES')\n",
    "else:\n",
    "    print ('NO')"
   ]
  },
  {
   "cell_type": "markdown",
   "id": "97b3ceb1-3e47-458f-9360-69e70ee445e0",
   "metadata": {},
   "source": [
    "#W3A8\n",
    "chuoi1,chuoi2=map(str,input().split())\n",
    "if len(chuoi1) > len(chuoi2):\n",
    "    print ('YES')\n",
    "else:\n",
    "    print ('NO')\n",
    "    "
   ]
  },
  {
   "cell_type": "markdown",
   "id": "f8b8a67e-039b-477a-a219-63e88b08f762",
   "metadata": {},
   "source": [
    "#W3A9\n",
    "A,B,C=map(int,input().split())\n",
    "if A+B>C and A+C>B and B+C>A:\n",
    "    print ('YES')\n",
    "else:\n",
    "    print ('NO')"
   ]
  },
  {
   "cell_type": "markdown",
   "id": "54a6713a-ca92-4e77-806e-3bbbc6f98bf9",
   "metadata": {},
   "source": [
    "#W3A10\n",
    "nguyen=list(map(int,input().split()))\n",
    "print (max(nguyen))"
   ]
  },
  {
   "cell_type": "markdown",
   "id": "8e0e1c6c-6765-4dd4-94e6-5291be41cfdf",
   "metadata": {},
   "source": [
    "#W3A11\n",
    "from math import*\n",
    "canh1,canh2,canh3=map(int,input().split())\n",
    "if canh1+canh2>canh3 and canh1+canh3>canh2 and canh2+canh3>canh1:\n",
    "    if canh1==canh2==canh3:\n",
    "        print ('tam giác đều')\n",
    "    elif canh1==canh2 or canh1 == canh3 or canh2==canh3:\n",
    "        print ('tam giác cân')\n",
    "    elif canh1**2 == canh2**2 + canh3**2  or canh2**2 == canh1**2 + canh3**2 or canh3**2 == canh2**2 + canh1**2:\n",
    "        print ('tam giác vuông')\n",
    "    else:\n",
    "        print ('tam giác thường')\n",
    "else:\n",
    "    print ('không phải tam giác')"
   ]
  },
  {
   "cell_type": "markdown",
   "id": "c00cface-744f-4d06-a682-1dd0603ef4d2",
   "metadata": {},
   "source": [
    "#W3A12\n",
    "nam=int(input())\n",
    "if (nam%4==0 and nam%100!=0) or nam%400==0:\n",
    "    print ('YES')\n",
    "else:\n",
    "    print ('NO')"
   ]
  },
  {
   "cell_type": "markdown",
   "id": "8e6da794-eb3b-41c5-bd30-da8e38578179",
   "metadata": {},
   "source": [
    "#W3A14\n",
    "m,n=map(float,input().split())\n",
    "if m==0:\n",
    "    if n==0:\n",
    "        print ('phương trình vô số nghiệm')\n",
    "    else:\n",
    "        print ('phương trình vô nghiệm')\n",
    "else:\n",
    "    print ('%.2f'  %(-n/m))"
   ]
  }
 ],
 "metadata": {
  "kernelspec": {
   "display_name": "Python 3 (ipykernel)",
   "language": "python",
   "name": "python3"
  },
  "language_info": {
   "codemirror_mode": {
    "name": "ipython",
    "version": 3
   },
   "file_extension": ".py",
   "mimetype": "text/x-python",
   "name": "python",
   "nbconvert_exporter": "python",
   "pygments_lexer": "ipython3",
   "version": "3.13.5"
  }
 },
 "nbformat": 4,
 "nbformat_minor": 5
}
